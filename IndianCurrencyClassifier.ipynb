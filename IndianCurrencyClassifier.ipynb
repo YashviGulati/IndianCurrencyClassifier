{
 "cells": [
  {
   "cell_type": "markdown",
   "metadata": {
    "colab_type": "text",
    "id": "wvf8-UfWQAch"
   },
   "source": [
    "**Aim**: To classify Indian Currency using CNN"
   ]
  },
  {
   "cell_type": "markdown",
   "metadata": {
    "colab_type": "text",
    "id": "envyNnO1QWfJ"
   },
   "source": [
    "**About Dataset:** \n",
    "It contains images of the indian currency. Dataset is divided into two parts: 1) *Training* (contains 2400 images i.e 400 images each class)       2) *Testing* (contains 171 images)\n",
    "\n",
    "It has 6 classes (ten, twenty, fifty, hundred, five hundred, thousand).\n",
    "\n",
    "dataset link: https://drive.google.com/open?id=1aGO-_-7in5xAcAz-q8wxlKAj9Y6eg6Yi\n"
   ]
  },
  {
   "cell_type": "code",
   "execution_count": 0,
   "metadata": {
    "colab": {},
    "colab_type": "code",
    "id": "y3k31RMFGvyR"
   },
   "outputs": [],
   "source": [
    "import cv2\n",
    "import numpy as np\n",
    "import pandas as pd"
   ]
  },
  {
   "cell_type": "code",
   "execution_count": 0,
   "metadata": {
    "colab": {},
    "colab_type": "code",
    "id": "ARUJ1yOZ2iZ2"
   },
   "outputs": [],
   "source": [
    "import matplotlib.pyplot as plt\n",
    "%matplotlib inline"
   ]
  },
  {
   "cell_type": "code",
   "execution_count": 0,
   "metadata": {
    "colab": {},
    "colab_type": "code",
    "id": "bCDppudv2k-S"
   },
   "outputs": [],
   "source": [
    "import os\n",
    "import random\n",
    "import gc"
   ]
  },
  {
   "cell_type": "code",
   "execution_count": 0,
   "metadata": {
    "colab": {},
    "colab_type": "code",
    "id": "5YWLcDvSEshm"
   },
   "outputs": [],
   "source": [
    "test_dir='dataset/test' \n",
    "train_dir='dataset/train'"
   ]
  },
  {
   "cell_type": "code",
   "execution_count": 0,
   "metadata": {
    "colab": {},
    "colab_type": "code",
    "id": "2obh97AFIuG6"
   },
   "outputs": [],
   "source": [
    "train_fifty=['dataset/train/{}'.format(i) for i in os.listdir(train_dir) if 'fifty' in i]\n",
    "train_fivehundred=['dataset/train/{}'.format(i) for i in os.listdir(train_dir) if 'fivehund' in i]\n",
    "train_hundred=['dataset/train/{}'.format(i) for i in os.listdir(train_dir) if 'hundred' in i]\n",
    "train_ten=['dataset/train/{}'.format(i) for i in os.listdir(train_dir) if 'ten' in i]\n",
    "train_twenty=['dataset/train/{}'.format(i) for i in os.listdir(train_dir) if 'twenty' in i]\n",
    "train_thousand=['dataset/train/{}'.format(i) for i in os.listdir(train_dir) if 'thousand' in i]"
   ]
  },
  {
   "cell_type": "code",
   "execution_count": 0,
   "metadata": {
    "colab": {},
    "colab_type": "code",
    "id": "btUlSs5RbEk-"
   },
   "outputs": [],
   "source": [
    "test_imgs=['dataset/test/{}'.format(i) for i in os.listdir(test_dir)]"
   ]
  },
  {
   "cell_type": "code",
   "execution_count": 0,
   "metadata": {
    "colab": {},
    "colab_type": "code",
    "id": "sQUxTkF2brY_"
   },
   "outputs": [],
   "source": [
    "train_imgs=train_fifty[:400]+train_fivehundred[:400]+train_hundred[:400]+train_ten[:400]+train_twenty[:400]+train_thousand[:400]\n",
    "random.shuffle(train_imgs)"
   ]
  },
  {
   "cell_type": "code",
   "execution_count": 0,
   "metadata": {
    "colab": {
     "base_uri": "https://localhost:8080/",
     "height": 35
    },
    "colab_type": "code",
    "id": "JfL1Kjpe8uTZ",
    "outputId": "a1d6a02c-a746-4c2c-d105-fc8acd476cd4"
   },
   "outputs": [
    {
     "data": {
      "text/plain": [
       "2400"
      ]
     },
     "execution_count": 83,
     "metadata": {
      "tags": []
     },
     "output_type": "execute_result"
    }
   ],
   "source": [
    "len(train_imgs)"
   ]
  },
  {
   "cell_type": "code",
   "execution_count": 0,
   "metadata": {
    "colab": {},
    "colab_type": "code",
    "id": "lFjUAQiXb6N3"
   },
   "outputs": [],
   "source": [
    "nrows=100\n",
    "ncolumns=100\n",
    "channels=3"
   ]
  },
  {
   "cell_type": "code",
   "execution_count": 0,
   "metadata": {
    "colab": {},
    "colab_type": "code",
    "id": "yroL64xGb-wq"
   },
   "outputs": [],
   "source": [
    "def read_and_process_image(list_of_images):\n",
    "    '''\n",
    "    returns X (array of resized images)\n",
    "    and Y(array of labels)\n",
    "    \n",
    "    0-fifty\n",
    "    1-fivehundred\n",
    "    2-hundred\n",
    "    3-ten\n",
    "    4-thousand\n",
    "    '''\n",
    "    X=[]\n",
    "    Y=[]\n",
    "    \n",
    "    for image in list_of_images:\n",
    "        X.append(cv2.resize(cv2.imread(image,cv2.IMREAD_COLOR),(nrows,ncolumns),interpolation=cv2.INTER_CUBIC))\n",
    "        #temp = cv2.imread(image,channels)\n",
    "        #cv2.resize(temp,(nrows,ncolumns))\n",
    "        #X.append(temp)\n",
    "        if 'fifty' in image:\n",
    "            Y.append(0)\n",
    "        elif 'fivehund' in image:\n",
    "            Y.append(1)\n",
    "        elif 'hundred' in image:\n",
    "            Y.append(2)\n",
    "        elif 'thousand' in image:\n",
    "            Y.append(4)\n",
    "        elif 'twenty' in image:\n",
    "            Y.append(5)\n",
    "        else:\n",
    "            Y.append(3)\n",
    "\n",
    "    return X,Y"
   ]
  },
  {
   "cell_type": "code",
   "execution_count": 0,
   "metadata": {
    "colab": {},
    "colab_type": "code",
    "id": "N1f95PmgcA_6"
   },
   "outputs": [],
   "source": [
    "X,Y=read_and_process_image(train_imgs)"
   ]
  },
  {
   "cell_type": "code",
   "execution_count": 0,
   "metadata": {
    "colab": {
     "base_uri": "https://localhost:8080/",
     "height": 35
    },
    "colab_type": "code",
    "id": "Bgb5Q2rohR0H",
    "outputId": "bf14665f-d024-44f0-c7e6-d21cb8b237c0"
   },
   "outputs": [
    {
     "data": {
      "text/plain": [
       "(array([0, 1, 2, 3, 4, 5]), array([400, 400, 400, 400, 400, 400]))"
      ]
     },
     "execution_count": 87,
     "metadata": {
      "tags": []
     },
     "output_type": "execute_result"
    }
   ],
   "source": [
    "np.unique(Y,return_counts=True)"
   ]
  },
  {
   "cell_type": "code",
   "execution_count": 0,
   "metadata": {
    "colab": {
     "base_uri": "https://localhost:8080/",
     "height": 299
    },
    "colab_type": "code",
    "id": "MBubKQZncDfv",
    "outputId": "6bbc7bf5-1129-4b33-a671-ef93c1b45b9f"
   },
   "outputs": [
    {
     "data": {
      "text/plain": [
       "Text(0.5, 1.0, 'Dataset Distribution')"
      ]
     },
     "execution_count": 88,
     "metadata": {
      "tags": []
     },
     "output_type": "execute_result"
    },
    {
     "data": {
      "image/png": "[encoded data removed]",
      "text/plain": [
       "<Figure size 432x288 with 1 Axes>"
      ]
     },
     "metadata": {
      "needs_background": "light",
      "tags": []
     },
     "output_type": "display_data"
    }
   ],
   "source": [
    "import seaborn as sns\n",
    "\n",
    "X=np.array(X)\n",
    "Y=np.array(Y)\n",
    "\n",
    "sns.countplot(Y)\n",
    "plt.title('Dataset Distribution')"
   ]
  },
  {
   "cell_type": "code",
   "execution_count": 0,
   "metadata": {
    "colab": {},
    "colab_type": "code",
    "id": "QrBxO-wi-pOL"
   },
   "outputs": [],
   "source": [
    "from keras.utils import to_categorical\n",
    "Y=to_categorical(Y, num_classes=6) #converts into hot vector"
   ]
  },
  {
   "cell_type": "code",
   "execution_count": 0,
   "metadata": {
    "colab": {
     "base_uri": "https://localhost:8080/",
     "height": 35
    },
    "colab_type": "code",
    "id": "X6FXZ7LN5Faj",
    "outputId": "b5c4a4bc-1244-4177-dcc0-d7f9f31013c8"
   },
   "outputs": [
    {
     "data": {
      "text/plain": [
       "(2400, 6)"
      ]
     },
     "execution_count": 90,
     "metadata": {
      "tags": []
     },
     "output_type": "execute_result"
    }
   ],
   "source": [
    "np.shape(Y)"
   ]
  },
  {
   "cell_type": "code",
   "execution_count": 0,
   "metadata": {
    "colab": {
     "base_uri": "https://localhost:8080/",
     "height": 90
    },
    "colab_type": "code",
    "id": "RyYcf93ScGlt",
    "outputId": "b95e6ee4-5476-4c9a-8cbb-4f1c8e11039f"
   },
   "outputs": [
    {
     "name": "stdout",
     "output_type": "stream",
     "text": [
      "Shape of train images:  (1920, 100, 100, 3)\n",
      "Shape of validation images:  (480, 100, 100, 3)\n",
      "Shape of train lables images:  (1920, 6)\n",
      "Shape of validation labels images:  (480, 6)\n"
     ]
    }
   ],
   "source": [
    "from sklearn.model_selection import train_test_split\n",
    "X_train, X_val,Y_train,Y_val=train_test_split(X,Y,test_size=0.2, random_state=2)\n",
    "\n",
    "print(\"Shape of train images: \", X_train.shape)\n",
    "print(\"Shape of validation images: \", X_val.shape)\n",
    "print(\"Shape of train lables images: \", Y_train.shape)\n",
    "print(\"Shape of validation labels images: \", Y_val.shape)"
   ]
  },
  {
   "cell_type": "code",
   "execution_count": 0,
   "metadata": {
    "colab": {
     "base_uri": "https://localhost:8080/",
     "height": 72
    },
    "colab_type": "code",
    "id": "mH-QX6aPcpSe",
    "outputId": "f6c42752-61aa-4c59-ff61-4a394a531e59"
   },
   "outputs": [
    {
     "name": "stdout",
     "output_type": "stream",
     "text": [
      "(2400, 100, 100, 3)\n",
      "(2400, 6)\n"
     ]
    },
    {
     "data": {
      "text/plain": [
       "26"
      ]
     },
     "execution_count": 92,
     "metadata": {
      "tags": []
     },
     "output_type": "execute_result"
    }
   ],
   "source": [
    "print(X.shape)\n",
    "print(Y.shape)\n",
    "\n",
    "del X\n",
    "del Y\n",
    "gc.collect() #garbage collector"
   ]
  },
  {
   "cell_type": "code",
   "execution_count": 0,
   "metadata": {
    "colab": {},
    "colab_type": "code",
    "id": "aX5RnLF0csUr"
   },
   "outputs": [],
   "source": [
    "ntrain=len(X_train)\n",
    "nval=len(X_val)\n",
    "\n",
    "batch_size=32"
   ]
  },
  {
   "cell_type": "code",
   "execution_count": 0,
   "metadata": {
    "colab": {},
    "colab_type": "code",
    "id": "TtZkEDQAcvVf"
   },
   "outputs": [],
   "source": [
    "from keras import layers\n",
    "from keras import models\n",
    "from keras import optimizers"
   ]
  },
  {
   "cell_type": "code",
   "execution_count": 0,
   "metadata": {
    "colab": {},
    "colab_type": "code",
    "id": "PKJLunYpcxVI"
   },
   "outputs": [],
   "source": [
    "#model\n",
    "model=models.Sequential()\n",
    "model.add(layers.Conv2D(32,(3,3), activation='relu', input_shape=(100,100,3)))\n",
    "model.add(layers.MaxPooling2D((2,2)))\n",
    "model.add(layers.Conv2D(64,(3,3), activation='relu'))\n",
    "model.add(layers.MaxPooling2D((2,2)))\n",
    "model.add(layers.Conv2D(128,(3,3), activation='relu'))\n",
    "model.add(layers.MaxPooling2D((2,2)))\n",
    "model.add(layers.Conv2D(128,(3,3), activation='relu'))\n",
    "model.add(layers.MaxPooling2D((2,2)))\n",
    "model.add(layers.Flatten())\n",
    "model.add(layers.Dropout(0.5))\n",
    "model.add(layers.Dense(512, activation='relu'))\n",
    "model.add(layers.Dense(6, activation='softmax'))"
   ]
  },
  {
   "cell_type": "code",
   "execution_count": 0,
   "metadata": {
    "colab": {
     "base_uri": "https://localhost:8080/",
     "height": 605
    },
    "colab_type": "code",
    "id": "-2rRX1T7_F2G",
    "outputId": "4c883415-7849-4752-e6e0-ff68e8f0acfc"
   },
   "outputs": [
    {
     "name": "stdout",
     "output_type": "stream",
     "text": [
      "Model: \"sequential_1\"\n",
      "_________________________________________________________________\n",
      "Layer (type)                 Output Shape              Param #   \n",
      "=================================================================\n",
      "conv2d_1 (Conv2D)            (None, 98, 98, 32)        896       \n",
      "_________________________________________________________________\n",
      "max_pooling2d_1 (MaxPooling2 (None, 49, 49, 32)        0         \n",
      "_________________________________________________________________\n",
      "conv2d_2 (Conv2D)            (None, 47, 47, 64)        18496     \n",
      "_________________________________________________________________\n",
      "max_pooling2d_2 (MaxPooling2 (None, 23, 23, 64)        0         \n",
      "_________________________________________________________________\n",
      "conv2d_3 (Conv2D)            (None, 21, 21, 128)       73856     \n",
      "_________________________________________________________________\n",
      "max_pooling2d_3 (MaxPooling2 (None, 10, 10, 128)       0         \n",
      "_________________________________________________________________\n",
      "conv2d_4 (Conv2D)            (None, 8, 8, 128)         147584    \n",
      "_________________________________________________________________\n",
      "max_pooling2d_4 (MaxPooling2 (None, 4, 4, 128)         0         \n",
      "_________________________________________________________________\n",
      "flatten_1 (Flatten)          (None, 2048)              0         \n",
      "_________________________________________________________________\n",
      "dropout_1 (Dropout)          (None, 2048)              0         \n",
      "_________________________________________________________________\n",
      "dense_1 (Dense)              (None, 512)               1049088   \n",
      "_________________________________________________________________\n",
      "dense_2 (Dense)              (None, 6)                 3078      \n",
      "=================================================================\n",
      "Total params: 1,292,998\n",
      "Trainable params: 1,292,998\n",
      "Non-trainable params: 0\n",
      "_________________________________________________________________\n"
     ]
    }
   ],
   "source": [
    "model.summary()"
   ]
  },
  {
   "cell_type": "code",
   "execution_count": 0,
   "metadata": {
    "colab": {},
    "colab_type": "code",
    "id": "-F56TMFK-KRc"
   },
   "outputs": [],
   "source": [
    "from keras.optimizers import Adam"
   ]
  },
  {
   "cell_type": "code",
   "execution_count": 0,
   "metadata": {
    "colab": {},
    "colab_type": "code",
    "id": "_vTRul6b_Tex"
   },
   "outputs": [],
   "source": [
    "#model compilation\n",
    "model.compile(loss='categorical_crossentropy', optimizer=Adam(), metrics=['accuracy'])"
   ]
  },
  {
   "cell_type": "code",
   "execution_count": 0,
   "metadata": {
    "colab": {
     "base_uri": "https://localhost:8080/",
     "height": 1000
    },
    "colab_type": "code",
    "id": "_ZoK-yyW6Nuf",
    "outputId": "6b26beb8-46a6-47ad-c655-75debf89e355"
   },
   "outputs": [
    {
     "name": "stdout",
     "output_type": "stream",
     "text": [
      "Train on 1920 samples, validate on 480 samples\n",
      "Epoch 1/70\n",
      "1920/1920 [==============================] - 20s 10ms/step - loss: 4.3758 - accuracy: 0.1786 - val_loss: 1.7814 - val_accuracy: 0.1833\n",
      "Epoch 2/70\n",
      "1920/1920 [==============================] - 20s 10ms/step - loss: 1.7911 - accuracy: 0.1922 - val_loss: 1.7691 - val_accuracy: 0.2917\n",
      "Epoch 3/70\n",
      "1920/1920 [==============================] - 20s 10ms/step - loss: 1.7899 - accuracy: 0.1875 - val_loss: 1.8684 - val_accuracy: 0.1562\n",
      "Epoch 4/70\n",
      "1920/1920 [==============================] - 20s 10ms/step - loss: 1.7916 - accuracy: 0.1714 - val_loss: 1.7836 - val_accuracy: 0.1583\n",
      "Epoch 5/70\n",
      "1920/1920 [==============================] - 20s 10ms/step - loss: 1.7875 - accuracy: 0.1828 - val_loss: 1.7899 - val_accuracy: 0.1813\n",
      "Epoch 6/70\n",
      "1920/1920 [==============================] - 21s 11ms/step - loss: 1.7934 - accuracy: 0.1755 - val_loss: 1.7899 - val_accuracy: 0.1667\n",
      "Epoch 7/70\n",
      "1920/1920 [==============================] - 24s 12ms/step - loss: 1.7831 - accuracy: 0.1724 - val_loss: 1.7923 - val_accuracy: 0.1771\n",
      "Epoch 8/70\n",
      "1920/1920 [==============================] - 20s 10ms/step - loss: 1.7842 - accuracy: 0.2042 - val_loss: 1.7834 - val_accuracy: 0.2208\n",
      "Epoch 9/70\n",
      "1920/1920 [==============================] - 20s 10ms/step - loss: 1.7810 - accuracy: 0.1937 - val_loss: 1.7911 - val_accuracy: 0.2167\n",
      "Epoch 10/70\n",
      "1920/1920 [==============================] - 20s 10ms/step - loss: 1.7898 - accuracy: 0.1839 - val_loss: 1.7877 - val_accuracy: 0.2021\n",
      "Epoch 11/70\n",
      "1920/1920 [==============================] - 20s 10ms/step - loss: 1.7744 - accuracy: 0.1891 - val_loss: 1.8541 - val_accuracy: 0.1562\n",
      "Epoch 12/70\n",
      "1920/1920 [==============================] - 20s 10ms/step - loss: 1.7876 - accuracy: 0.1891 - val_loss: 1.7977 - val_accuracy: 0.1937\n",
      "Epoch 13/70\n",
      "1920/1920 [==============================] - 20s 10ms/step - loss: 1.7843 - accuracy: 0.1870 - val_loss: 1.7889 - val_accuracy: 0.1667\n",
      "Epoch 14/70\n",
      "1920/1920 [==============================] - 20s 10ms/step - loss: 1.7804 - accuracy: 0.1943 - val_loss: 1.7946 - val_accuracy: 0.1896\n",
      "Epoch 15/70\n",
      "1920/1920 [==============================] - 20s 10ms/step - loss: 1.7852 - accuracy: 0.1823 - val_loss: 1.7868 - val_accuracy: 0.1750\n",
      "Epoch 16/70\n",
      "1920/1920 [==============================] - 20s 10ms/step - loss: 1.7770 - accuracy: 0.1823 - val_loss: 1.7920 - val_accuracy: 0.1958\n",
      "Epoch 17/70\n",
      "1920/1920 [==============================] - 20s 10ms/step - loss: 1.7542 - accuracy: 0.2182 - val_loss: 1.7955 - val_accuracy: 0.1917\n",
      "Epoch 18/70\n",
      "1920/1920 [==============================] - 20s 10ms/step - loss: 1.7618 - accuracy: 0.1891 - val_loss: 1.7815 - val_accuracy: 0.2062\n",
      "Epoch 19/70\n",
      "1920/1920 [==============================] - 20s 10ms/step - loss: 1.7454 - accuracy: 0.2328 - val_loss: 1.7745 - val_accuracy: 0.2083\n",
      "Epoch 20/70\n",
      "1920/1920 [==============================] - 20s 10ms/step - loss: 1.7452 - accuracy: 0.2260 - val_loss: 1.7365 - val_accuracy: 0.2208\n",
      "Epoch 21/70\n",
      "1920/1920 [==============================] - 20s 10ms/step - loss: 1.6781 - accuracy: 0.2646 - val_loss: 1.7367 - val_accuracy: 0.2458\n",
      "Epoch 22/70\n",
      "1920/1920 [==============================] - 20s 10ms/step - loss: 1.6720 - accuracy: 0.2880 - val_loss: 1.6901 - val_accuracy: 0.2854\n",
      "Epoch 23/70\n",
      "1920/1920 [==============================] - 20s 10ms/step - loss: 1.5375 - accuracy: 0.3578 - val_loss: 1.4801 - val_accuracy: 0.3562\n",
      "Epoch 24/70\n",
      "1920/1920 [==============================] - 20s 10ms/step - loss: 1.4784 - accuracy: 0.3958 - val_loss: 1.4179 - val_accuracy: 0.4437\n",
      "Epoch 25/70\n",
      "1920/1920 [==============================] - 20s 10ms/step - loss: 1.4312 - accuracy: 0.3958 - val_loss: 1.4539 - val_accuracy: 0.3604\n",
      "Epoch 26/70\n",
      "1920/1920 [==============================] - 20s 10ms/step - loss: 1.3701 - accuracy: 0.4385 - val_loss: 1.3000 - val_accuracy: 0.5000\n",
      "Epoch 27/70\n",
      "1920/1920 [==============================] - 20s 10ms/step - loss: 1.3220 - accuracy: 0.4615 - val_loss: 1.3945 - val_accuracy: 0.4792\n",
      "Epoch 28/70\n",
      "1920/1920 [==============================] - 19s 10ms/step - loss: 1.2498 - accuracy: 0.5073 - val_loss: 1.2097 - val_accuracy: 0.5146\n",
      "Epoch 29/70\n",
      "1920/1920 [==============================] - 20s 11ms/step - loss: 1.1769 - accuracy: 0.5312 - val_loss: 1.1694 - val_accuracy: 0.5688\n",
      "Epoch 30/70\n",
      "1920/1920 [==============================] - 19s 10ms/step - loss: 1.1504 - accuracy: 0.5396 - val_loss: 1.1257 - val_accuracy: 0.5688\n",
      "Epoch 31/70\n",
      "1920/1920 [==============================] - 19s 10ms/step - loss: 1.0163 - accuracy: 0.5979 - val_loss: 1.0682 - val_accuracy: 0.5792\n",
      "Epoch 32/70\n",
      "1920/1920 [==============================] - 20s 10ms/step - loss: 1.0466 - accuracy: 0.5948 - val_loss: 1.2201 - val_accuracy: 0.5333\n",
      "Epoch 33/70\n",
      "1920/1920 [==============================] - 19s 10ms/step - loss: 1.0251 - accuracy: 0.6099 - val_loss: 1.1343 - val_accuracy: 0.5542\n",
      "Epoch 34/70\n",
      "1920/1920 [==============================] - 20s 10ms/step - loss: 0.9015 - accuracy: 0.6453 - val_loss: 1.1661 - val_accuracy: 0.5479\n",
      "Epoch 35/70\n",
      "1920/1920 [==============================] - 20s 10ms/step - loss: 0.8633 - accuracy: 0.6609 - val_loss: 1.1538 - val_accuracy: 0.5521\n",
      "Epoch 36/70\n",
      "1920/1920 [==============================] - 20s 10ms/step - loss: 0.8557 - accuracy: 0.6589 - val_loss: 1.0362 - val_accuracy: 0.6146\n",
      "Epoch 37/70\n",
      "1920/1920 [==============================] - 20s 10ms/step - loss: 0.7161 - accuracy: 0.7255 - val_loss: 1.0991 - val_accuracy: 0.5833\n",
      "Epoch 38/70\n",
      "1920/1920 [==============================] - 20s 10ms/step - loss: 0.6941 - accuracy: 0.7224 - val_loss: 1.0036 - val_accuracy: 0.6125\n",
      "Epoch 39/70\n",
      "1920/1920 [==============================] - 20s 10ms/step - loss: 0.6158 - accuracy: 0.7609 - val_loss: 0.9534 - val_accuracy: 0.6417\n",
      "Epoch 40/70\n",
      "1920/1920 [==============================] - 20s 10ms/step - loss: 0.5592 - accuracy: 0.7885 - val_loss: 0.9755 - val_accuracy: 0.6333\n",
      "Epoch 41/70\n",
      "1920/1920 [==============================] - 20s 10ms/step - loss: 0.5068 - accuracy: 0.8099 - val_loss: 0.9447 - val_accuracy: 0.6667\n",
      "Epoch 42/70\n",
      "1920/1920 [==============================] - 20s 10ms/step - loss: 0.5267 - accuracy: 0.8115 - val_loss: 1.1053 - val_accuracy: 0.6333\n",
      "Epoch 43/70\n",
      "1920/1920 [==============================] - 20s 10ms/step - loss: 0.5295 - accuracy: 0.8057 - val_loss: 0.8853 - val_accuracy: 0.6896\n",
      "Epoch 44/70\n",
      "1920/1920 [==============================] - 20s 10ms/step - loss: 0.4645 - accuracy: 0.8286 - val_loss: 0.9671 - val_accuracy: 0.6667\n",
      "Epoch 45/70\n",
      "1920/1920 [==============================] - 20s 10ms/step - loss: 0.4107 - accuracy: 0.8474 - val_loss: 0.9042 - val_accuracy: 0.6687\n",
      "Epoch 46/70\n",
      "1920/1920 [==============================] - 20s 10ms/step - loss: 0.3849 - accuracy: 0.8635 - val_loss: 0.9200 - val_accuracy: 0.6812\n",
      "Epoch 47/70\n",
      "1920/1920 [==============================] - 20s 10ms/step - loss: 0.3143 - accuracy: 0.8844 - val_loss: 1.0179 - val_accuracy: 0.6812\n",
      "Epoch 48/70\n",
      "1920/1920 [==============================] - 20s 10ms/step - loss: 0.3051 - accuracy: 0.8932 - val_loss: 1.0608 - val_accuracy: 0.6562\n",
      "Epoch 49/70\n",
      "1920/1920 [==============================] - 20s 10ms/step - loss: 0.3498 - accuracy: 0.8750 - val_loss: 0.9347 - val_accuracy: 0.6896\n",
      "Epoch 50/70\n",
      "1920/1920 [==============================] - 20s 10ms/step - loss: 0.2809 - accuracy: 0.8943 - val_loss: 1.0078 - val_accuracy: 0.6792\n",
      "Epoch 51/70\n",
      "1920/1920 [==============================] - 20s 10ms/step - loss: 0.3347 - accuracy: 0.8859 - val_loss: 0.9738 - val_accuracy: 0.7063\n",
      "Epoch 52/70\n",
      "1920/1920 [==============================] - 20s 10ms/step - loss: 0.3169 - accuracy: 0.8849 - val_loss: 1.0158 - val_accuracy: 0.6833\n",
      "Epoch 53/70\n",
      "1920/1920 [==============================] - 20s 10ms/step - loss: 0.2643 - accuracy: 0.9125 - val_loss: 0.9386 - val_accuracy: 0.6979\n",
      "Epoch 54/70\n",
      "1920/1920 [==============================] - 20s 10ms/step - loss: 0.2367 - accuracy: 0.9276 - val_loss: 1.0978 - val_accuracy: 0.6938\n",
      "Epoch 55/70\n",
      "1920/1920 [==============================] - 20s 10ms/step - loss: 0.2587 - accuracy: 0.9052 - val_loss: 1.0669 - val_accuracy: 0.6625\n",
      "Epoch 56/70\n",
      "1920/1920 [==============================] - 20s 10ms/step - loss: 0.2507 - accuracy: 0.9073 - val_loss: 1.0716 - val_accuracy: 0.7354\n",
      "Epoch 57/70\n",
      "1920/1920 [==============================] - 20s 10ms/step - loss: 0.1961 - accuracy: 0.9328 - val_loss: 1.2676 - val_accuracy: 0.6687\n",
      "Epoch 58/70\n",
      "1920/1920 [==============================] - 20s 10ms/step - loss: 0.2463 - accuracy: 0.9156 - val_loss: 0.9155 - val_accuracy: 0.7292\n",
      "Epoch 59/70\n",
      "1920/1920 [==============================] - 20s 10ms/step - loss: 0.1830 - accuracy: 0.9396 - val_loss: 0.9601 - val_accuracy: 0.7042\n",
      "Epoch 60/70\n",
      "1920/1920 [==============================] - 20s 10ms/step - loss: 0.2290 - accuracy: 0.9266 - val_loss: 0.9359 - val_accuracy: 0.7437\n",
      "Epoch 61/70\n",
      "1920/1920 [==============================] - 20s 10ms/step - loss: 0.1861 - accuracy: 0.9391 - val_loss: 1.0317 - val_accuracy: 0.6938\n",
      "Epoch 62/70\n",
      "1920/1920 [==============================] - 20s 10ms/step - loss: 0.1841 - accuracy: 0.9349 - val_loss: 0.9218 - val_accuracy: 0.7250\n",
      "Epoch 63/70\n",
      "1920/1920 [==============================] - 19s 10ms/step - loss: 0.1493 - accuracy: 0.9479 - val_loss: 1.0504 - val_accuracy: 0.7271\n",
      "Epoch 64/70\n",
      "1920/1920 [==============================] - 20s 10ms/step - loss: 0.1646 - accuracy: 0.9411 - val_loss: 0.9791 - val_accuracy: 0.7146\n",
      "Epoch 65/70\n",
      "1920/1920 [==============================] - 20s 10ms/step - loss: 0.1044 - accuracy: 0.9682 - val_loss: 1.0698 - val_accuracy: 0.7479\n",
      "Epoch 66/70\n",
      "1920/1920 [==============================] - 20s 10ms/step - loss: 0.1540 - accuracy: 0.9516 - val_loss: 1.0912 - val_accuracy: 0.7146\n",
      "Epoch 67/70\n",
      "1920/1920 [==============================] - 20s 10ms/step - loss: 0.1911 - accuracy: 0.9359 - val_loss: 0.9717 - val_accuracy: 0.7312\n",
      "Epoch 68/70\n",
      "1920/1920 [==============================] - 20s 10ms/step - loss: 0.1375 - accuracy: 0.9573 - val_loss: 1.3339 - val_accuracy: 0.6875\n",
      "Epoch 69/70\n",
      "1920/1920 [==============================] - 20s 10ms/step - loss: 0.1303 - accuracy: 0.9552 - val_loss: 1.1174 - val_accuracy: 0.7229\n",
      "Epoch 70/70\n",
      "1920/1920 [==============================] - 20s 10ms/step - loss: 0.1247 - accuracy: 0.9589 - val_loss: 1.0953 - val_accuracy: 0.7104\n"
     ]
    },
    {
     "data": {
      "text/plain": [
       "<keras.callbacks.callbacks.History at 0x7fa12b8b2d30>"
      ]
     },
     "execution_count": 99,
     "metadata": {
      "tags": []
     },
     "output_type": "execute_result"
    }
   ],
   "source": [
    "#model run\n",
    "model.fit(X_train,Y_train,batch_size=batch_size,verbose=1,epochs=70,validation_data=(X_val,Y_val))"
   ]
  },
  {
   "cell_type": "code",
   "execution_count": 0,
   "metadata": {
    "colab": {},
    "colab_type": "code",
    "id": "WnJGOqobkqrj"
   },
   "outputs": [],
   "source": [
    "from sklearn.metrics import classification_report, confusion_matrix,accuracy_score"
   ]
  },
  {
   "cell_type": "code",
   "execution_count": 0,
   "metadata": {
    "colab": {},
    "colab_type": "code",
    "id": "S3PaTkeZiAn-"
   },
   "outputs": [],
   "source": [
    "random.shuffle(test_imgs)\n",
    "X_test,Y_test=read_and_process_image(test_imgs)    \n",
    "np.unique(Y_test,return_counts=True)  "
   ]
  },
  {
   "cell_type": "code",
   "execution_count": 0,
   "metadata": {
    "colab": {},
    "colab_type": "code",
    "id": "dsx13sm1iseT"
   },
   "outputs": [],
   "source": [
    "Y_predict = model.predict_classes(np.array(X_test))"
   ]
  },
  {
   "cell_type": "code",
   "execution_count": 0,
   "metadata": {
    "colab": {
     "base_uri": "https://localhost:8080/",
     "height": 35
    },
    "colab_type": "code",
    "id": "k6uplvi4jM0i",
    "outputId": "79bab7e7-50ba-400e-90b6-12c7ade922ea"
   },
   "outputs": [
    {
     "name": "stdout",
     "output_type": "stream",
     "text": [
      "Test Accuracy =  0.39766081871345027\n"
     ]
    }
   ],
   "source": [
    "print(\"Test Accuracy = \", accuracy_score(Y_predict,Y_test))"
   ]
  },
  {
   "cell_type": "code",
   "execution_count": 0,
   "metadata": {
    "colab": {
     "base_uri": "https://localhost:8080/",
     "height": 127
    },
    "colab_type": "code",
    "id": "if-act5xkf2F",
    "outputId": "0913941d-2c43-4ab7-b779-53133c8bd29e"
   },
   "outputs": [
    {
     "name": "stdout",
     "output_type": "stream",
     "text": [
      "[[ 3  0  3  0  2  0]\n",
      " [39  2  5 17  1  1]\n",
      " [ 1  0  4  0  1  0]\n",
      " [ 4  0  0  5  5  3]\n",
      " [ 0  0  1  0 24  3]\n",
      " [ 0  0  0 13  4 30]]\n"
     ]
    }
   ],
   "source": [
    "print(confusion_matrix(Y_predict,Y_test))"
   ]
  },
  {
   "cell_type": "code",
   "execution_count": 0,
   "metadata": {
    "colab": {
     "base_uri": "https://localhost:8080/",
     "height": 256
    },
    "colab_type": "code",
    "id": "Jwvp3W94p6Sz",
    "outputId": "09180457-58e6-42b9-91a6-82e57c312860"
   },
   "outputs": [
    {
     "name": "stdout",
     "output_type": "stream",
     "text": [
      "              precision    recall  f1-score   support\n",
      "\n",
      "           0       0.06      0.38      0.11         8\n",
      "           1       1.00      0.03      0.06        65\n",
      "           2       0.31      0.67      0.42         6\n",
      "           3       0.14      0.29      0.19        17\n",
      "           4       0.65      0.86      0.74        28\n",
      "           5       0.81      0.64      0.71        47\n",
      "\n",
      "    accuracy                           0.40       171\n",
      "   macro avg       0.50      0.48      0.37       171\n",
      "weighted avg       0.74      0.40      0.38       171\n",
      "\n"
     ]
    }
   ],
   "source": [
    "print(classification_report(Y_predict,Y_test))"
   ]
  },
  {
   "cell_type": "code",
   "execution_count": 0,
   "metadata": {
    "colab": {},
    "colab_type": "code",
    "id": "l7Ufg8kpqAmA"
   },
   "outputs": [],
   "source": []
  }
 ],
 "metadata": {
  "colab": {
   "collapsed_sections": [],
   "machine_shape": "hm",
   "name": "Currency.ipynb",
   "provenance": []
  },
  "kernelspec": {
   "display_name": "Python 3",
   "language": "python",
   "name": "python3"
  },
  "language_info": {
   "codemirror_mode": {
    "name": "ipython",
    "version": 3
   },
   "file_extension": ".py",
   "mimetype": "text/x-python",
   "name": "python",
   "nbconvert_exporter": "python",
   "pygments_lexer": "ipython3",
   "version": "3.7.4"
  }
 },
 "nbformat": 4,
 "nbformat_minor": 1
}
